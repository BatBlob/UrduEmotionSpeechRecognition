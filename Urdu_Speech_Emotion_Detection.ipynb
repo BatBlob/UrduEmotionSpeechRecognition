{
  "nbformat": 4,
  "nbformat_minor": 0,
  "metadata": {
    "accelerator": "GPU",
    "colab": {
      "provenance": []
    },
    "kernelspec": {
      "display_name": "Python 3",
      "name": "python3"
    },
    "language_info": {
      "codemirror_mode": {
        "name": "ipython",
        "version": 3
      },
      "file_extension": ".py",
      "mimetype": "text/x-python",
      "name": "python",
      "nbconvert_exporter": "python",
      "pygments_lexer": "ipython3",
      "version": "3.9.6"
    }
  },
  "cells": [
    {
      "cell_type": "markdown",
      "metadata": {
        "id": "kJ1peGaRIXjG"
      },
      "source": [
        "# Urdu Speech Emotion Detection using ANN\n",
        "## Group Members\n",
        "- Anand Kumar | ak05173\n",
        "- Ghani Haider | gh05177\n",
        "- Salman Muhammad Younus | sy04351\n",
        "\n",
        "colab link : https://colab.research.google.com/drive/1QSPqYhSrkr6UadBHccM6iSwb3jRBQFvc?usp=sharing"
      ]
    },
    {
      "cell_type": "markdown",
      "metadata": {
        "id": "azEMzE7nJCPo"
      },
      "source": [
        "## Downloading required libraries"
      ]
    },
    {
      "cell_type": "code",
      "metadata": {
        "colab": {
          "base_uri": "https://localhost:8080/"
        },
        "id": "06-ZZoPuFZUw",
        "outputId": "b4c92552-4751-4da8-8a4e-8b251ecdb296"
      },
      "source": [
        "!sudo apt update"
      ],
      "execution_count": null,
      "outputs": [
        {
          "output_type": "stream",
          "name": "stdout",
          "text": [
            "\u001b[33m\r0% [Working]\u001b[0m\r            \rGet:1 http://security.ubuntu.com/ubuntu jammy-security InRelease [110 kB]\n",
            "\u001b[33m\r0% [Connecting to archive.ubuntu.com (185.125.190.39)] [1 InRelease 14.2 kB/110\u001b[0m\r                                                                               \rGet:2 https://cloud.r-project.org/bin/linux/ubuntu jammy-cran40/ InRelease [3,622 B]\n",
            "Hit:3 https://developer.download.nvidia.com/compute/cuda/repos/ubuntu2204/x86_64  InRelease\n",
            "Hit:4 http://archive.ubuntu.com/ubuntu jammy InRelease\n",
            "Get:5 http://archive.ubuntu.com/ubuntu jammy-updates InRelease [119 kB]\n",
            "Get:6 http://security.ubuntu.com/ubuntu jammy-security/universe amd64 Packages [993 kB]\n",
            "Hit:7 https://ppa.launchpadcontent.net/c2d4u.team/c2d4u4.0+/ubuntu jammy InRelease\n",
            "Get:8 http://security.ubuntu.com/ubuntu jammy-security/main amd64 Packages [966 kB]\n",
            "Get:9 http://archive.ubuntu.com/ubuntu jammy-backports InRelease [109 kB]\n",
            "Hit:10 https://ppa.launchpadcontent.net/deadsnakes/ppa/ubuntu jammy InRelease\n",
            "Get:11 http://archive.ubuntu.com/ubuntu jammy-updates/universe amd64 Packages [1,257 kB]\n",
            "Get:12 http://archive.ubuntu.com/ubuntu jammy-updates/main amd64 Packages [1,235 kB]\n",
            "Hit:13 https://ppa.launchpadcontent.net/graphics-drivers/ppa/ubuntu jammy InRelease\n",
            "Hit:14 https://ppa.launchpadcontent.net/ubuntugis/ppa/ubuntu jammy InRelease\n",
            "Fetched 4,793 kB in 2s (2,461 kB/s)\n",
            "Reading package lists... Done\n",
            "Building dependency tree... Done\n",
            "Reading state information... Done\n",
            "23 packages can be upgraded. Run 'apt list --upgradable' to see them.\n"
          ]
        }
      ]
    },
    {
      "cell_type": "code",
      "metadata": {
        "colab": {
          "base_uri": "https://localhost:8080/"
        },
        "id": "G_uBN6AxFxcy",
        "outputId": "0cc88482-a7f9-4ed2-c7ca-217e6810827b"
      },
      "source": [
        "!apt install libasound2-dev portaudio19-dev libportaudio2 libportaudiocpp0 ffmpeg p7zip-full python3-pyaudio"
      ],
      "execution_count": null,
      "outputs": [
        {
          "output_type": "stream",
          "name": "stdout",
          "text": [
            "Reading package lists... Done\n",
            "Building dependency tree... Done\n",
            "Reading state information... Done\n",
            "libasound2-dev is already the newest version (1.2.6.1-1ubuntu1).\n",
            "p7zip-full is already the newest version (16.02+dfsg-8).\n",
            "ffmpeg is already the newest version (7:4.4.2-0ubuntu0.22.04.1).\n",
            "Suggested packages:\n",
            "  portaudio19-doc python-pyaudio-doc\n",
            "The following NEW packages will be installed:\n",
            "  libportaudio2 libportaudiocpp0 portaudio19-dev python3-pyaudio\n",
            "0 upgraded, 4 newly installed, 0 to remove and 23 not upgraded.\n",
            "Need to get 213 kB of archives.\n",
            "After this operation, 1,043 kB of additional disk space will be used.\n",
            "Get:1 http://archive.ubuntu.com/ubuntu jammy/universe amd64 libportaudio2 amd64 19.6.0-1.1 [65.3 kB]\n",
            "Get:2 http://archive.ubuntu.com/ubuntu jammy/universe amd64 libportaudiocpp0 amd64 19.6.0-1.1 [16.1 kB]\n",
            "Get:3 http://archive.ubuntu.com/ubuntu jammy/universe amd64 portaudio19-dev amd64 19.6.0-1.1 [106 kB]\n",
            "Get:4 http://archive.ubuntu.com/ubuntu jammy/universe amd64 python3-pyaudio amd64 0.2.11-1.3ubuntu1 [25.9 kB]\n",
            "Fetched 213 kB in 0s (895 kB/s)\n",
            "Selecting previously unselected package libportaudio2:amd64.\n",
            "(Reading database ... 120901 files and directories currently installed.)\n",
            "Preparing to unpack .../libportaudio2_19.6.0-1.1_amd64.deb ...\n",
            "Unpacking libportaudio2:amd64 (19.6.0-1.1) ...\n",
            "Selecting previously unselected package libportaudiocpp0:amd64.\n",
            "Preparing to unpack .../libportaudiocpp0_19.6.0-1.1_amd64.deb ...\n",
            "Unpacking libportaudiocpp0:amd64 (19.6.0-1.1) ...\n",
            "Selecting previously unselected package portaudio19-dev:amd64.\n",
            "Preparing to unpack .../portaudio19-dev_19.6.0-1.1_amd64.deb ...\n",
            "Unpacking portaudio19-dev:amd64 (19.6.0-1.1) ...\n",
            "Selecting previously unselected package python3-pyaudio.\n",
            "Preparing to unpack .../python3-pyaudio_0.2.11-1.3ubuntu1_amd64.deb ...\n",
            "Unpacking python3-pyaudio (0.2.11-1.3ubuntu1) ...\n",
            "Setting up libportaudio2:amd64 (19.6.0-1.1) ...\n",
            "Setting up libportaudiocpp0:amd64 (19.6.0-1.1) ...\n",
            "Setting up portaudio19-dev:amd64 (19.6.0-1.1) ...\n",
            "Setting up python3-pyaudio (0.2.11-1.3ubuntu1) ...\n",
            "Processing triggers for libc-bin (2.35-0ubuntu3.1) ...\n",
            "/sbin/ldconfig.real: /usr/local/lib/libtbbbind.so.3 is not a symbolic link\n",
            "\n",
            "/sbin/ldconfig.real: /usr/local/lib/libtbbmalloc_proxy.so.2 is not a symbolic link\n",
            "\n",
            "/sbin/ldconfig.real: /usr/local/lib/libtbbbind_2_0.so.3 is not a symbolic link\n",
            "\n",
            "/sbin/ldconfig.real: /usr/local/lib/libtbb.so.12 is not a symbolic link\n",
            "\n",
            "/sbin/ldconfig.real: /usr/local/lib/libtbbbind_2_5.so.3 is not a symbolic link\n",
            "\n",
            "/sbin/ldconfig.real: /usr/local/lib/libtbbmalloc.so.2 is not a symbolic link\n",
            "\n"
          ]
        }
      ]
    },
    {
      "cell_type": "code",
      "metadata": {
        "colab": {
          "base_uri": "https://localhost:8080/"
        },
        "id": "d1u6zQqeEy_Y",
        "outputId": "efeeb0e8-172b-4691-d4e4-c877f70c4154"
      },
      "source": [
        "!pip install librosa soundfile numpy sklearn pyaudio"
      ],
      "execution_count": null,
      "outputs": [
        {
          "output_type": "stream",
          "name": "stdout",
          "text": [
            "Requirement already satisfied: librosa in /usr/local/lib/python3.10/dist-packages (0.10.1)\n",
            "Requirement already satisfied: soundfile in /usr/local/lib/python3.10/dist-packages (0.12.1)\n",
            "Requirement already satisfied: numpy in /usr/local/lib/python3.10/dist-packages (1.23.5)\n",
            "Collecting sklearn\n",
            "  Downloading sklearn-0.0.post9.tar.gz (3.6 kB)\n",
            "  \u001b[1;31merror\u001b[0m: \u001b[1msubprocess-exited-with-error\u001b[0m\n",
            "  \n",
            "  \u001b[31m×\u001b[0m \u001b[32mpython setup.py egg_info\u001b[0m did not run successfully.\n",
            "  \u001b[31m│\u001b[0m exit code: \u001b[1;36m1\u001b[0m\n",
            "  \u001b[31m╰─>\u001b[0m See above for output.\n",
            "  \n",
            "  \u001b[1;35mnote\u001b[0m: This error originates from a subprocess, and is likely not a problem with pip.\n",
            "  Preparing metadata (setup.py) ... \u001b[?25l\u001b[?25herror\n",
            "\u001b[1;31merror\u001b[0m: \u001b[1mmetadata-generation-failed\u001b[0m\n",
            "\n",
            "\u001b[31m×\u001b[0m Encountered error while generating package metadata.\n",
            "\u001b[31m╰─>\u001b[0m See above for output.\n",
            "\n",
            "\u001b[1;35mnote\u001b[0m: This is an issue with the package mentioned above, not pip.\n",
            "\u001b[1;36mhint\u001b[0m: See above for details.\n"
          ]
        }
      ]
    },
    {
      "cell_type": "code",
      "metadata": {
        "id": "XZyxknL2E7H4"
      },
      "source": [
        "import librosa\n",
        "import soundfile\n",
        "import os, glob, pickle\n",
        "import numpy as np\n",
        "from sklearn.model_selection import train_test_split\n",
        "from sklearn.neural_network import MLPClassifier\n",
        "from sklearn.metrics import accuracy_score"
      ],
      "execution_count": null,
      "outputs": []
    },
    {
      "cell_type": "markdown",
      "metadata": {
        "id": "pjT0YimZJJKB"
      },
      "source": [
        "## Downloading the SEMOUR Dataset"
      ]
    },
    {
      "cell_type": "code",
      "metadata": {
        "colab": {
          "base_uri": "https://localhost:8080/"
        },
        "id": "J2KvPM9RHbN_",
        "outputId": "93f225e9-c09c-4161-f917-a8336703c5ba"
      },
      "source": [
        "!gdown --id 1UVfeHncEVifIIAKqXoN8OTqbooUbmwhR\n",
        "!7z x SEMOUR_HD.zip"
      ],
      "execution_count": null,
      "outputs": [
        {
          "output_type": "stream",
          "name": "stdout",
          "text": [
            "/usr/local/lib/python3.10/dist-packages/gdown/cli.py:121: FutureWarning: Option `--id` was deprecated in version 4.3.1 and will be removed in 5.0. You don't need to pass it anymore to use a file ID.\n",
            "  warnings.warn(\n",
            "Access denied with the following error:\n",
            "\n",
            " \tCannot retrieve the public link of the file. You may need to change\n",
            "\tthe permission to 'Anyone with the link', or have had many accesses. \n",
            "\n",
            "You may still be able to access the file from the browser:\n",
            "\n",
            "\t https://drive.google.com/uc?id=1UVfeHncEVifIIAKqXoN8OTqbooUbmwhR \n",
            "\n",
            "\n",
            "7-Zip [64] 16.02 : Copyright (c) 1999-2016 Igor Pavlov : 2016-05-21\n",
            "p7zip Version 16.02 (locale=en_US.UTF-8,Utf16=on,HugeFiles=on,64 bits,2 CPUs Intel(R) Xeon(R) CPU @ 2.30GHz (306F0),ASM,AES-NI)\n",
            "\n",
            "Scanning the drive for archives:\n",
            "  0M Scan\b\b\b\b\b\b\b\b\b         \b\b\b\b\b\b\b\b\b\n",
            "ERROR: No more files\n",
            "SEMOUR_HD.zip\n",
            "\n",
            "\n",
            "\n",
            "System ERROR:\n",
            "Unknown error -2147024872\n"
          ]
        }
      ]
    },
    {
      "cell_type": "code",
      "metadata": {
        "id": "erYbhOHwF75z"
      },
      "source": [
        "# Extract features (mfcc, chroma, mel) from a sound file\n",
        "def extract_feature(file_name, mfcc, chroma, mel, axis_=1):\n",
        "  with soundfile.SoundFile(file_name) as sound_file:\n",
        "      X = sound_file.read(dtype=\"float32\")\n",
        "      X = X.mean(axis=axis_)\n",
        "      sample_rate=sound_file.samplerate\n",
        "      if chroma:\n",
        "          stft=np.abs(librosa.stft(X))\n",
        "      result=np.array([])\n",
        "      if mfcc:\n",
        "          mfccs=np.mean(librosa.feature.mfcc(y=X, sr=sample_rate, n_mfcc=40).T, axis=0)\n",
        "          result=np.hstack((result, mfccs))\n",
        "      if chroma:\n",
        "          chroma=np.mean(librosa.feature.chroma_stft(S=stft, sr=sample_rate).T,axis=0)\n",
        "          result=np.hstack((result, chroma))\n",
        "      if mel:\n",
        "          mel=np.mean(librosa.feature.melspectrogram(X, sr=sample_rate).T,axis=0)\n",
        "          result=np.hstack((result, mel))\n",
        "  return result"
      ],
      "execution_count": null,
      "outputs": []
    },
    {
      "cell_type": "code",
      "metadata": {
        "id": "Z8zuVNbaGSk-"
      },
      "source": [
        "# Index based mapping of label values for SEMOUR-HD dataset\n",
        "observed_emotions = ['Sadness', 'Anger', 'Happiness', 'Neutral', 'Surprise', 'Boredom', 'Fearful', 'Disgust']"
      ],
      "execution_count": null,
      "outputs": []
    },
    {
      "cell_type": "code",
      "metadata": {
        "id": "Oiss_cDgGdHW"
      },
      "source": [
        "# Load the data and extract features for each sound file\n",
        "def load_data(test_size=0.2):\n",
        "    x,y=[],[]\n",
        "    i = 0\n",
        "    for file in glob.glob(\"HD-SEMOUR/Actor_*/*/*.wav\"):\n",
        "        file_name=os.path.basename(file)\n",
        "\n",
        "        emotion = file.split('/')[2]\n",
        "\n",
        "        if emotion not in observed_emotions:\n",
        "            continue\n",
        "        feature=extract_feature(file, mfcc=True, chroma=True, mel=True)\n",
        "        x.append(feature)\n",
        "        # get the respective emotion's index and save it\n",
        "        emotion_index = observed_emotions.index(emotion)\n",
        "        y.append(emotion_index)\n",
        "\n",
        "        i+=1\n",
        "\n",
        "        if i % 100 == 0:\n",
        "            print(f\"{i} files read out of 15042\")\n",
        "\n",
        "    return train_test_split(np.array(x), y, test_size=test_size, random_state=9)\n"
      ],
      "execution_count": null,
      "outputs": []
    },
    {
      "cell_type": "code",
      "metadata": {
        "colab": {
          "base_uri": "https://localhost:8080/",
          "height": 375
        },
        "id": "BwfPI0vIGi_n",
        "outputId": "79fa364b-8a14-4cd0-c78a-7878a61ead3a"
      },
      "source": [
        "# Split the dataset\n",
        "x_train, x_test, y_train, y_test = load_data(test_size=0.3)\n",
        "y_train = np.array(y_train)\n",
        "y_test = np.array(y_test)"
      ],
      "execution_count": null,
      "outputs": [
        {
          "output_type": "error",
          "ename": "ValueError",
          "evalue": "ignored",
          "traceback": [
            "\u001b[0;31m---------------------------------------------------------------------------\u001b[0m",
            "\u001b[0;31mValueError\u001b[0m                                Traceback (most recent call last)",
            "\u001b[0;32m<ipython-input-9-cbd7a5d6a675>\u001b[0m in \u001b[0;36m<cell line: 2>\u001b[0;34m()\u001b[0m\n\u001b[1;32m      1\u001b[0m \u001b[0;31m# Split the dataset\u001b[0m\u001b[0;34m\u001b[0m\u001b[0;34m\u001b[0m\u001b[0m\n\u001b[0;32m----> 2\u001b[0;31m \u001b[0mx_train\u001b[0m\u001b[0;34m,\u001b[0m \u001b[0mx_test\u001b[0m\u001b[0;34m,\u001b[0m \u001b[0my_train\u001b[0m\u001b[0;34m,\u001b[0m \u001b[0my_test\u001b[0m \u001b[0;34m=\u001b[0m \u001b[0mload_data\u001b[0m\u001b[0;34m(\u001b[0m\u001b[0mtest_size\u001b[0m\u001b[0;34m=\u001b[0m\u001b[0;36m0.3\u001b[0m\u001b[0;34m)\u001b[0m\u001b[0;34m\u001b[0m\u001b[0;34m\u001b[0m\u001b[0m\n\u001b[0m\u001b[1;32m      3\u001b[0m \u001b[0my_train\u001b[0m \u001b[0;34m=\u001b[0m \u001b[0mnp\u001b[0m\u001b[0;34m.\u001b[0m\u001b[0marray\u001b[0m\u001b[0;34m(\u001b[0m\u001b[0my_train\u001b[0m\u001b[0;34m)\u001b[0m\u001b[0;34m\u001b[0m\u001b[0;34m\u001b[0m\u001b[0m\n\u001b[1;32m      4\u001b[0m \u001b[0my_test\u001b[0m \u001b[0;34m=\u001b[0m \u001b[0mnp\u001b[0m\u001b[0;34m.\u001b[0m\u001b[0marray\u001b[0m\u001b[0;34m(\u001b[0m\u001b[0my_test\u001b[0m\u001b[0;34m)\u001b[0m\u001b[0;34m\u001b[0m\u001b[0;34m\u001b[0m\u001b[0m\n",
            "\u001b[0;32m<ipython-input-8-1d39e8b014d4>\u001b[0m in \u001b[0;36mload_data\u001b[0;34m(test_size)\u001b[0m\n\u001b[1;32m     21\u001b[0m             \u001b[0mprint\u001b[0m\u001b[0;34m(\u001b[0m\u001b[0;34mf\"{i} files read out of 15042\"\u001b[0m\u001b[0;34m)\u001b[0m\u001b[0;34m\u001b[0m\u001b[0;34m\u001b[0m\u001b[0m\n\u001b[1;32m     22\u001b[0m \u001b[0;34m\u001b[0m\u001b[0m\n\u001b[0;32m---> 23\u001b[0;31m     \u001b[0;32mreturn\u001b[0m \u001b[0mtrain_test_split\u001b[0m\u001b[0;34m(\u001b[0m\u001b[0mnp\u001b[0m\u001b[0;34m.\u001b[0m\u001b[0marray\u001b[0m\u001b[0;34m(\u001b[0m\u001b[0mx\u001b[0m\u001b[0;34m)\u001b[0m\u001b[0;34m,\u001b[0m \u001b[0my\u001b[0m\u001b[0;34m,\u001b[0m \u001b[0mtest_size\u001b[0m\u001b[0;34m=\u001b[0m\u001b[0mtest_size\u001b[0m\u001b[0;34m,\u001b[0m \u001b[0mrandom_state\u001b[0m\u001b[0;34m=\u001b[0m\u001b[0;36m9\u001b[0m\u001b[0;34m)\u001b[0m\u001b[0;34m\u001b[0m\u001b[0;34m\u001b[0m\u001b[0m\n\u001b[0m",
            "\u001b[0;32m/usr/local/lib/python3.10/dist-packages/sklearn/model_selection/_split.py\u001b[0m in \u001b[0;36mtrain_test_split\u001b[0;34m(test_size, train_size, random_state, shuffle, stratify, *arrays)\u001b[0m\n\u001b[1;32m   2560\u001b[0m \u001b[0;34m\u001b[0m\u001b[0m\n\u001b[1;32m   2561\u001b[0m     \u001b[0mn_samples\u001b[0m \u001b[0;34m=\u001b[0m \u001b[0m_num_samples\u001b[0m\u001b[0;34m(\u001b[0m\u001b[0marrays\u001b[0m\u001b[0;34m[\u001b[0m\u001b[0;36m0\u001b[0m\u001b[0;34m]\u001b[0m\u001b[0;34m)\u001b[0m\u001b[0;34m\u001b[0m\u001b[0;34m\u001b[0m\u001b[0m\n\u001b[0;32m-> 2562\u001b[0;31m     n_train, n_test = _validate_shuffle_split(\n\u001b[0m\u001b[1;32m   2563\u001b[0m         \u001b[0mn_samples\u001b[0m\u001b[0;34m,\u001b[0m \u001b[0mtest_size\u001b[0m\u001b[0;34m,\u001b[0m \u001b[0mtrain_size\u001b[0m\u001b[0;34m,\u001b[0m \u001b[0mdefault_test_size\u001b[0m\u001b[0;34m=\u001b[0m\u001b[0;36m0.25\u001b[0m\u001b[0;34m\u001b[0m\u001b[0;34m\u001b[0m\u001b[0m\n\u001b[1;32m   2564\u001b[0m     )\n",
            "\u001b[0;32m/usr/local/lib/python3.10/dist-packages/sklearn/model_selection/_split.py\u001b[0m in \u001b[0;36m_validate_shuffle_split\u001b[0;34m(n_samples, test_size, train_size, default_test_size)\u001b[0m\n\u001b[1;32m   2234\u001b[0m \u001b[0;34m\u001b[0m\u001b[0m\n\u001b[1;32m   2235\u001b[0m     \u001b[0;32mif\u001b[0m \u001b[0mn_train\u001b[0m \u001b[0;34m==\u001b[0m \u001b[0;36m0\u001b[0m\u001b[0;34m:\u001b[0m\u001b[0;34m\u001b[0m\u001b[0;34m\u001b[0m\u001b[0m\n\u001b[0;32m-> 2236\u001b[0;31m         raise ValueError(\n\u001b[0m\u001b[1;32m   2237\u001b[0m             \u001b[0;34m\"With n_samples={}, test_size={} and train_size={}, the \"\u001b[0m\u001b[0;34m\u001b[0m\u001b[0;34m\u001b[0m\u001b[0m\n\u001b[1;32m   2238\u001b[0m             \u001b[0;34m\"resulting train set will be empty. Adjust any of the \"\u001b[0m\u001b[0;34m\u001b[0m\u001b[0;34m\u001b[0m\u001b[0m\n",
            "\u001b[0;31mValueError\u001b[0m: With n_samples=0, test_size=0.3 and train_size=None, the resulting train set will be empty. Adjust any of the aforementioned parameters."
          ]
        }
      ]
    },
    {
      "cell_type": "code",
      "metadata": {
        "id": "d3NeQqmoGllz",
        "colab": {
          "base_uri": "https://localhost:8080/",
          "height": 195
        },
        "outputId": "62498192-0d8e-4349-e688-9d69c4d788df"
      },
      "source": [
        "# Get the shape of the training and testing datasets\n",
        "print((x_train.shape[0], x_test.shape[0]))"
      ],
      "execution_count": null,
      "outputs": [
        {
          "output_type": "error",
          "ename": "NameError",
          "evalue": "ignored",
          "traceback": [
            "\u001b[0;31m---------------------------------------------------------------------------\u001b[0m",
            "\u001b[0;31mNameError\u001b[0m                                 Traceback (most recent call last)",
            "\u001b[0;32m<ipython-input-10-9837fe644b79>\u001b[0m in \u001b[0;36m<cell line: 2>\u001b[0;34m()\u001b[0m\n\u001b[1;32m      1\u001b[0m \u001b[0;31m# Get the shape of the training and testing datasets\u001b[0m\u001b[0;34m\u001b[0m\u001b[0;34m\u001b[0m\u001b[0m\n\u001b[0;32m----> 2\u001b[0;31m \u001b[0mprint\u001b[0m\u001b[0;34m(\u001b[0m\u001b[0;34m(\u001b[0m\u001b[0mx_train\u001b[0m\u001b[0;34m.\u001b[0m\u001b[0mshape\u001b[0m\u001b[0;34m[\u001b[0m\u001b[0;36m0\u001b[0m\u001b[0;34m]\u001b[0m\u001b[0;34m,\u001b[0m \u001b[0mx_test\u001b[0m\u001b[0;34m.\u001b[0m\u001b[0mshape\u001b[0m\u001b[0;34m[\u001b[0m\u001b[0;36m0\u001b[0m\u001b[0;34m]\u001b[0m\u001b[0;34m)\u001b[0m\u001b[0;34m)\u001b[0m\u001b[0;34m\u001b[0m\u001b[0;34m\u001b[0m\u001b[0m\n\u001b[0m",
            "\u001b[0;31mNameError\u001b[0m: name 'x_train' is not defined"
          ]
        }
      ]
    },
    {
      "cell_type": "markdown",
      "metadata": {
        "id": "xGOsqHwKJkFD"
      },
      "source": [
        "## Making the ANN model"
      ]
    },
    {
      "cell_type": "code",
      "metadata": {
        "id": "KBMIFKv8nHor"
      },
      "source": [
        "import tensorflow as tf\n",
        "from tensorflow import keras\n",
        "\n",
        "from tensorflow.keras import Sequential\n",
        "from tensorflow.keras import layers\n",
        "from tensorflow.keras.layers import Dense\n",
        "\n",
        "from tensorflow.keras.optimizers import Adam"
      ],
      "execution_count": null,
      "outputs": []
    },
    {
      "cell_type": "code",
      "metadata": {
        "id": "mREfZ35YGwQI",
        "colab": {
          "base_uri": "https://localhost:8080/",
          "height": 247
        },
        "outputId": "de53e915-8346-42cc-c3d6-35d75832900e"
      },
      "source": [
        "# Get input dimension\n",
        "input_feature = x_train.shape[1]\n",
        "print(input_feature)\n",
        "\n",
        "# Creating our own neutral network model\n",
        "model = Sequential()\n",
        "model.add(Dense(256, activation='relu', input_shape=(input_feature,)))\n",
        "model.add(Dense(128, activation='relu'))\n",
        "model.add(Dense(64, activation='relu'))\n",
        "model.add(Dense(8, activation='softmax'))"
      ],
      "execution_count": null,
      "outputs": [
        {
          "output_type": "error",
          "ename": "NameError",
          "evalue": "ignored",
          "traceback": [
            "\u001b[0;31m---------------------------------------------------------------------------\u001b[0m",
            "\u001b[0;31mNameError\u001b[0m                                 Traceback (most recent call last)",
            "\u001b[0;32m<ipython-input-12-672a5a6851d6>\u001b[0m in \u001b[0;36m<cell line: 2>\u001b[0;34m()\u001b[0m\n\u001b[1;32m      1\u001b[0m \u001b[0;31m# Get input dimension\u001b[0m\u001b[0;34m\u001b[0m\u001b[0;34m\u001b[0m\u001b[0m\n\u001b[0;32m----> 2\u001b[0;31m \u001b[0minput_feature\u001b[0m \u001b[0;34m=\u001b[0m \u001b[0mx_train\u001b[0m\u001b[0;34m.\u001b[0m\u001b[0mshape\u001b[0m\u001b[0;34m[\u001b[0m\u001b[0;36m1\u001b[0m\u001b[0;34m]\u001b[0m\u001b[0;34m\u001b[0m\u001b[0;34m\u001b[0m\u001b[0m\n\u001b[0m\u001b[1;32m      3\u001b[0m \u001b[0mprint\u001b[0m\u001b[0;34m(\u001b[0m\u001b[0minput_feature\u001b[0m\u001b[0;34m)\u001b[0m\u001b[0;34m\u001b[0m\u001b[0;34m\u001b[0m\u001b[0m\n\u001b[1;32m      4\u001b[0m \u001b[0;34m\u001b[0m\u001b[0m\n\u001b[1;32m      5\u001b[0m \u001b[0;31m# Creating our own neutral network model\u001b[0m\u001b[0;34m\u001b[0m\u001b[0;34m\u001b[0m\u001b[0m\n",
            "\u001b[0;31mNameError\u001b[0m: name 'x_train' is not defined"
          ]
        }
      ]
    },
    {
      "cell_type": "code",
      "metadata": {
        "id": "rD1H1Fh7nl8a",
        "colab": {
          "base_uri": "https://localhost:8080/",
          "height": 247
        },
        "outputId": "7bab1e9e-2f3a-476d-864f-700484baf9c2"
      },
      "source": [
        "from tensorflow.keras.losses import SparseCategoricalCrossentropy\n",
        "\n",
        "# Choosing the optimizer, loss function and evaluation metric\n",
        "optimizer = Adam(learning_rate=0.001)\n",
        "model.compile(optimizer=optimizer,\n",
        "              loss='sparse_categorical_crossentropy',\n",
        "              metrics=['accuracy'])"
      ],
      "execution_count": null,
      "outputs": [
        {
          "output_type": "error",
          "ename": "NameError",
          "evalue": "ignored",
          "traceback": [
            "\u001b[0;31m---------------------------------------------------------------------------\u001b[0m",
            "\u001b[0;31mNameError\u001b[0m                                 Traceback (most recent call last)",
            "\u001b[0;32m<ipython-input-13-6c57744bada5>\u001b[0m in \u001b[0;36m<cell line: 5>\u001b[0;34m()\u001b[0m\n\u001b[1;32m      3\u001b[0m \u001b[0;31m# Choosing the optimizer, loss function and evaluation metric\u001b[0m\u001b[0;34m\u001b[0m\u001b[0;34m\u001b[0m\u001b[0m\n\u001b[1;32m      4\u001b[0m \u001b[0moptimizer\u001b[0m \u001b[0;34m=\u001b[0m \u001b[0mAdam\u001b[0m\u001b[0;34m(\u001b[0m\u001b[0mlearning_rate\u001b[0m\u001b[0;34m=\u001b[0m\u001b[0;36m0.001\u001b[0m\u001b[0;34m)\u001b[0m\u001b[0;34m\u001b[0m\u001b[0;34m\u001b[0m\u001b[0m\n\u001b[0;32m----> 5\u001b[0;31m model.compile(optimizer=optimizer,\n\u001b[0m\u001b[1;32m      6\u001b[0m               \u001b[0mloss\u001b[0m\u001b[0;34m=\u001b[0m\u001b[0;34m'sparse_categorical_crossentropy'\u001b[0m\u001b[0;34m,\u001b[0m\u001b[0;34m\u001b[0m\u001b[0;34m\u001b[0m\u001b[0m\n\u001b[1;32m      7\u001b[0m               metrics=['accuracy'])\n",
            "\u001b[0;31mNameError\u001b[0m: name 'model' is not defined"
          ]
        }
      ]
    },
    {
      "cell_type": "code",
      "metadata": {
        "id": "CsCVCdeBny4Z",
        "colab": {
          "base_uri": "https://localhost:8080/",
          "height": 247
        },
        "outputId": "6e23497f-0375-4877-a182-d257693b2bad"
      },
      "source": [
        "model.summary()\n",
        "\n",
        "# Diagram of the created ANN model\n",
        "from tensorflow.keras.utils import plot_model\n",
        "plot_model(model)"
      ],
      "execution_count": null,
      "outputs": [
        {
          "output_type": "error",
          "ename": "NameError",
          "evalue": "ignored",
          "traceback": [
            "\u001b[0;31m---------------------------------------------------------------------------\u001b[0m",
            "\u001b[0;31mNameError\u001b[0m                                 Traceback (most recent call last)",
            "\u001b[0;32m<ipython-input-14-63923f480373>\u001b[0m in \u001b[0;36m<cell line: 1>\u001b[0;34m()\u001b[0m\n\u001b[0;32m----> 1\u001b[0;31m \u001b[0mmodel\u001b[0m\u001b[0;34m.\u001b[0m\u001b[0msummary\u001b[0m\u001b[0;34m(\u001b[0m\u001b[0;34m)\u001b[0m\u001b[0;34m\u001b[0m\u001b[0;34m\u001b[0m\u001b[0m\n\u001b[0m\u001b[1;32m      2\u001b[0m \u001b[0;34m\u001b[0m\u001b[0m\n\u001b[1;32m      3\u001b[0m \u001b[0;31m# Diagram of the created ANN model\u001b[0m\u001b[0;34m\u001b[0m\u001b[0;34m\u001b[0m\u001b[0m\n\u001b[1;32m      4\u001b[0m \u001b[0;32mfrom\u001b[0m \u001b[0mtensorflow\u001b[0m\u001b[0;34m.\u001b[0m\u001b[0mkeras\u001b[0m\u001b[0;34m.\u001b[0m\u001b[0mutils\u001b[0m \u001b[0;32mimport\u001b[0m \u001b[0mplot_model\u001b[0m\u001b[0;34m\u001b[0m\u001b[0;34m\u001b[0m\u001b[0m\n\u001b[1;32m      5\u001b[0m \u001b[0mplot_model\u001b[0m\u001b[0;34m(\u001b[0m\u001b[0mmodel\u001b[0m\u001b[0;34m)\u001b[0m\u001b[0;34m\u001b[0m\u001b[0;34m\u001b[0m\u001b[0m\n",
            "\u001b[0;31mNameError\u001b[0m: name 'model' is not defined"
          ]
        }
      ]
    },
    {
      "cell_type": "code",
      "metadata": {
        "id": "wFGo1HCBG2Bb",
        "colab": {
          "base_uri": "https://localhost:8080/"
        },
        "outputId": "d240c76d-8307-40a3-ac88-348ce295e809"
      },
      "source": [
        "# Training the model on given dataset\n",
        "history = model.fit(x_train, y_train, epochs=50, validation_split=0.2, verbose=1) #verbose = how to see training progress here"
      ],
      "execution_count": null,
      "outputs": [
        {
          "output_type": "stream",
          "name": "stdout",
          "text": [
            "Epoch 1/50\n",
            "264/264 [==============================] - 2s 5ms/step - loss: 1.8062 - accuracy: 0.5068 - val_loss: 1.2078 - val_accuracy: 0.5589\n",
            "Epoch 2/50\n",
            "264/264 [==============================] - 1s 5ms/step - loss: 0.8932 - accuracy: 0.6936 - val_loss: 0.9294 - val_accuracy: 0.6781\n",
            "Epoch 3/50\n",
            "264/264 [==============================] - 1s 4ms/step - loss: 0.6571 - accuracy: 0.7712 - val_loss: 0.6362 - val_accuracy: 0.7764\n",
            "Epoch 4/50\n",
            "264/264 [==============================] - 1s 4ms/step - loss: 0.5143 - accuracy: 0.8235 - val_loss: 0.6597 - val_accuracy: 0.7844\n",
            "Epoch 5/50\n",
            "264/264 [==============================] - 1s 5ms/step - loss: 0.4453 - accuracy: 0.8482 - val_loss: 0.5142 - val_accuracy: 0.8262\n",
            "Epoch 6/50\n",
            "264/264 [==============================] - 1s 4ms/step - loss: 0.3678 - accuracy: 0.8759 - val_loss: 0.5630 - val_accuracy: 0.8219\n",
            "Epoch 7/50\n",
            "264/264 [==============================] - 1s 5ms/step - loss: 0.3371 - accuracy: 0.8834 - val_loss: 0.4551 - val_accuracy: 0.8590\n",
            "Epoch 8/50\n",
            "264/264 [==============================] - 1s 5ms/step - loss: 0.2702 - accuracy: 0.9034 - val_loss: 0.4516 - val_accuracy: 0.8590\n",
            "Epoch 9/50\n",
            "264/264 [==============================] - 1s 5ms/step - loss: 0.2536 - accuracy: 0.9142 - val_loss: 0.5019 - val_accuracy: 0.8462\n",
            "Epoch 10/50\n",
            "264/264 [==============================] - 1s 5ms/step - loss: 0.2462 - accuracy: 0.9177 - val_loss: 0.5423 - val_accuracy: 0.8381\n",
            "Epoch 11/50\n",
            "264/264 [==============================] - 1s 4ms/step - loss: 0.2218 - accuracy: 0.9277 - val_loss: 0.4659 - val_accuracy: 0.8647\n",
            "Epoch 12/50\n",
            "264/264 [==============================] - 1s 5ms/step - loss: 0.2125 - accuracy: 0.9276 - val_loss: 0.5175 - val_accuracy: 0.8485\n",
            "Epoch 13/50\n",
            "264/264 [==============================] - 1s 5ms/step - loss: 0.1945 - accuracy: 0.9339 - val_loss: 0.4858 - val_accuracy: 0.8547\n",
            "Epoch 14/50\n",
            "264/264 [==============================] - 1s 5ms/step - loss: 0.1594 - accuracy: 0.9468 - val_loss: 0.3952 - val_accuracy: 0.8903\n",
            "Epoch 15/50\n",
            "264/264 [==============================] - 1s 5ms/step - loss: 0.1391 - accuracy: 0.9520 - val_loss: 0.3812 - val_accuracy: 0.8955\n",
            "Epoch 16/50\n",
            "264/264 [==============================] - 1s 5ms/step - loss: 0.1636 - accuracy: 0.9493 - val_loss: 0.3894 - val_accuracy: 0.8917\n",
            "Epoch 17/50\n",
            "264/264 [==============================] - 1s 5ms/step - loss: 0.1402 - accuracy: 0.9525 - val_loss: 0.4239 - val_accuracy: 0.8841\n",
            "Epoch 18/50\n",
            "264/264 [==============================] - 1s 4ms/step - loss: 0.1607 - accuracy: 0.9493 - val_loss: 0.4106 - val_accuracy: 0.8837\n",
            "Epoch 19/50\n",
            "264/264 [==============================] - 1s 5ms/step - loss: 0.1371 - accuracy: 0.9510 - val_loss: 0.3679 - val_accuracy: 0.9041\n",
            "Epoch 20/50\n",
            "264/264 [==============================] - 1s 5ms/step - loss: 0.0920 - accuracy: 0.9689 - val_loss: 0.3963 - val_accuracy: 0.9050\n",
            "Epoch 21/50\n",
            "264/264 [==============================] - 1s 5ms/step - loss: 0.0948 - accuracy: 0.9671 - val_loss: 0.4427 - val_accuracy: 0.8974\n",
            "Epoch 22/50\n",
            "264/264 [==============================] - 2s 7ms/step - loss: 0.1075 - accuracy: 0.9664 - val_loss: 0.3915 - val_accuracy: 0.9003\n",
            "Epoch 23/50\n",
            "264/264 [==============================] - 1s 5ms/step - loss: 0.1026 - accuracy: 0.9669 - val_loss: 0.3981 - val_accuracy: 0.9017\n",
            "Epoch 24/50\n",
            "264/264 [==============================] - 1s 5ms/step - loss: 0.1281 - accuracy: 0.9588 - val_loss: 0.4844 - val_accuracy: 0.8908\n",
            "Epoch 25/50\n",
            "264/264 [==============================] - 1s 5ms/step - loss: 0.1119 - accuracy: 0.9641 - val_loss: 0.4733 - val_accuracy: 0.8913\n",
            "Epoch 26/50\n",
            "264/264 [==============================] - 1s 5ms/step - loss: 0.0803 - accuracy: 0.9712 - val_loss: 0.4629 - val_accuracy: 0.8970\n",
            "Epoch 27/50\n",
            "264/264 [==============================] - 1s 5ms/step - loss: 0.0715 - accuracy: 0.9765 - val_loss: 0.4120 - val_accuracy: 0.9060\n",
            "Epoch 28/50\n",
            "264/264 [==============================] - 1s 5ms/step - loss: 0.0553 - accuracy: 0.9833 - val_loss: 0.4260 - val_accuracy: 0.9098\n",
            "Epoch 29/50\n",
            "264/264 [==============================] - 1s 5ms/step - loss: 0.0891 - accuracy: 0.9700 - val_loss: 0.4440 - val_accuracy: 0.9031\n",
            "Epoch 30/50\n",
            "264/264 [==============================] - 1s 5ms/step - loss: 0.0594 - accuracy: 0.9808 - val_loss: 0.4733 - val_accuracy: 0.9031\n",
            "Epoch 31/50\n",
            "264/264 [==============================] - 1s 5ms/step - loss: 0.0797 - accuracy: 0.9732 - val_loss: 0.4886 - val_accuracy: 0.8951\n",
            "Epoch 32/50\n",
            "264/264 [==============================] - 1s 5ms/step - loss: 0.1086 - accuracy: 0.9658 - val_loss: 0.4577 - val_accuracy: 0.8998\n",
            "Epoch 33/50\n",
            "264/264 [==============================] - 1s 5ms/step - loss: 0.0810 - accuracy: 0.9733 - val_loss: 0.4977 - val_accuracy: 0.8970\n",
            "Epoch 34/50\n",
            "264/264 [==============================] - 1s 5ms/step - loss: 0.0576 - accuracy: 0.9840 - val_loss: 0.5063 - val_accuracy: 0.9036\n",
            "Epoch 35/50\n",
            "264/264 [==============================] - 1s 5ms/step - loss: 0.0462 - accuracy: 0.9847 - val_loss: 0.4712 - val_accuracy: 0.9041\n",
            "Epoch 36/50\n",
            "264/264 [==============================] - 1s 5ms/step - loss: 0.0574 - accuracy: 0.9831 - val_loss: 0.4560 - val_accuracy: 0.9084\n",
            "Epoch 37/50\n",
            "264/264 [==============================] - 1s 5ms/step - loss: 0.0515 - accuracy: 0.9835 - val_loss: 0.4692 - val_accuracy: 0.9103\n",
            "Epoch 38/50\n",
            "264/264 [==============================] - 1s 5ms/step - loss: 0.0730 - accuracy: 0.9753 - val_loss: 0.4154 - val_accuracy: 0.9122\n",
            "Epoch 39/50\n",
            "264/264 [==============================] - 1s 5ms/step - loss: 0.0728 - accuracy: 0.9770 - val_loss: 0.5002 - val_accuracy: 0.9036\n",
            "Epoch 40/50\n",
            "264/264 [==============================] - 1s 5ms/step - loss: 0.0489 - accuracy: 0.9846 - val_loss: 0.4116 - val_accuracy: 0.9107\n",
            "Epoch 41/50\n",
            "264/264 [==============================] - 1s 5ms/step - loss: 0.0260 - accuracy: 0.9913 - val_loss: 0.4414 - val_accuracy: 0.9188\n",
            "Epoch 42/50\n",
            "264/264 [==============================] - 1s 5ms/step - loss: 0.0353 - accuracy: 0.9877 - val_loss: 0.4540 - val_accuracy: 0.9236\n",
            "Epoch 43/50\n",
            "264/264 [==============================] - 1s 5ms/step - loss: 0.0485 - accuracy: 0.9855 - val_loss: 0.4575 - val_accuracy: 0.9169\n",
            "Epoch 44/50\n",
            "264/264 [==============================] - 1s 5ms/step - loss: 0.0866 - accuracy: 0.9735 - val_loss: 0.4905 - val_accuracy: 0.9027\n",
            "Epoch 45/50\n",
            "264/264 [==============================] - 1s 5ms/step - loss: 0.0626 - accuracy: 0.9797 - val_loss: 0.3874 - val_accuracy: 0.9231\n",
            "Epoch 46/50\n",
            "264/264 [==============================] - 1s 5ms/step - loss: 0.0247 - accuracy: 0.9915 - val_loss: 0.4131 - val_accuracy: 0.9160\n",
            "Epoch 47/50\n",
            "264/264 [==============================] - 1s 5ms/step - loss: 0.0595 - accuracy: 0.9831 - val_loss: 0.5251 - val_accuracy: 0.9017\n",
            "Epoch 48/50\n",
            "264/264 [==============================] - 1s 5ms/step - loss: 0.0825 - accuracy: 0.9760 - val_loss: 0.4236 - val_accuracy: 0.9122\n",
            "Epoch 49/50\n",
            "264/264 [==============================] - 1s 5ms/step - loss: 0.0406 - accuracy: 0.9869 - val_loss: 0.4359 - val_accuracy: 0.9164\n",
            "Epoch 50/50\n",
            "264/264 [==============================] - 1s 5ms/step - loss: 0.0316 - accuracy: 0.9905 - val_loss: 0.4653 - val_accuracy: 0.9202\n"
          ]
        }
      ]
    },
    {
      "cell_type": "code",
      "metadata": {
        "id": "__VUWScMG4hD",
        "colab": {
          "base_uri": "https://localhost:8080/"
        },
        "outputId": "67f94979-7a56-48e9-8eae-2d9e97d34555"
      },
      "source": [
        "# Predicting for the test dataset\n",
        "model.evaluate(x_test, y_test)"
      ],
      "execution_count": null,
      "outputs": [
        {
          "output_type": "stream",
          "name": "stdout",
          "text": [
            "142/142 [==============================] - 1s 3ms/step - loss: 0.4400 - accuracy: 0.9165\n"
          ]
        },
        {
          "output_type": "execute_result",
          "data": {
            "text/plain": [
              "[0.4400220513343811, 0.9164635539054871]"
            ]
          },
          "metadata": {},
          "execution_count": 43
        }
      ]
    },
    {
      "cell_type": "markdown",
      "metadata": {
        "id": "f8A6nTljQiWd"
      },
      "source": [
        "## Confusion Matrix"
      ]
    },
    {
      "cell_type": "code",
      "metadata": {
        "id": "TPRGE6x3JwmV"
      },
      "source": [
        "# Creating a confusion matrix\n",
        "y_pred = model.predict(x_test)\n",
        "y_result = []\n",
        "y_pred_list = y_pred.tolist()\n",
        "temp = 0\n",
        "for i in range(len(y_pred_list)):\n",
        "  temp = y_pred_list[i].index(max(y_pred_list[i]))\n",
        "  y_result.append(temp)"
      ],
      "execution_count": null,
      "outputs": []
    },
    {
      "cell_type": "code",
      "metadata": {
        "colab": {
          "base_uri": "https://localhost:8080/"
        },
        "id": "S5BChHOuM2PV",
        "outputId": "8afea413-b046-4321-d282-578659034972"
      },
      "source": [
        "tf.math.confusion_matrix(y_test, y_result)"
      ],
      "execution_count": null,
      "outputs": [
        {
          "output_type": "execute_result",
          "data": {
            "text/plain": [
              "<tf.Tensor: shape=(8, 8), dtype=int32, numpy=\n",
              "array([[562,   2,  11,   0,   0,   4,  24,   3],\n",
              "       [  4, 505,  14,   0,  14,   0,   6,   4],\n",
              "       [ 10,   9, 515,   2,   9,   2,  31,   3],\n",
              "       [  3,   0,   6, 493,   1,  12,   6,   5],\n",
              "       [  9,  13,  33,   0, 466,   5,  25,  10],\n",
              "       [  1,   0,   0,   5,   0, 561,   3,   2],\n",
              "       [ 17,   6,  11,   0,   7,   5, 517,  15],\n",
              "       [  3,   1,   5,   2,   2,   3,   9, 517]], dtype=int32)>"
            ]
          },
          "metadata": {},
          "execution_count": 45
        }
      ]
    },
    {
      "cell_type": "markdown",
      "metadata": {
        "id": "XlJVUoSGGTYd"
      },
      "source": [
        "## Model's Accuracy"
      ]
    },
    {
      "cell_type": "code",
      "metadata": {
        "colab": {
          "base_uri": "https://localhost:8080/",
          "height": 295
        },
        "id": "OydRoTb9GV0l",
        "outputId": "fd420a01-bca5-4f3f-e041-c44c60d4d0a3"
      },
      "source": [
        "import matplotlib.pyplot as plt\n",
        "plt.plot(history.history['accuracy'])\n",
        "plt.plot(history.history['val_accuracy'])\n",
        "plt.title('Model Accuracy')\n",
        "plt.xlabel('epoch')\n",
        "plt.ylabel('accuracy')\n",
        "plt.legend(['Train', 'Validation'])\n",
        "plt.show()"
      ],
      "execution_count": null,
      "outputs": [
        {
          "output_type": "display_data",
          "data": {
            "image/png": "[encoded data removed]",
            "text/plain": [
              "<Figure size 432x288 with 1 Axes>"
            ]
          },
          "metadata": {
            "needs_background": "light"
          }
        }
      ]
    },
    {
      "cell_type": "markdown",
      "metadata": {
        "id": "FWjFcu_nH5PH"
      },
      "source": [
        "## Model's Loss"
      ]
    },
    {
      "cell_type": "code",
      "metadata": {
        "colab": {
          "base_uri": "https://localhost:8080/",
          "height": 295
        },
        "id": "vPPdrUzXH792",
        "outputId": "4c8fedf7-921a-4d07-cf8f-b151245d266f"
      },
      "source": [
        "plt.plot(history.history['loss'])\n",
        "plt.plot(history.history['val_loss'])\n",
        "plt.title('Model Loss')\n",
        "plt.xlabel('epoch')\n",
        "plt.ylabel('loss')\n",
        "plt.legend(['Train', 'Validation'])\n",
        "plt.show()"
      ],
      "execution_count": null,
      "outputs": [
        {
          "output_type": "display_data",
          "data": {
            "image/png": "[encoded data removed]",
            "text/plain": [
              "<Figure size 432x288 with 1 Axes>"
            ]
          },
          "metadata": {
            "needs_background": "light"
          }
        }
      ]
    },
    {
      "cell_type": "markdown",
      "source": [
        "## Other Metrics"
      ],
      "metadata": {
        "id": "cqgHWnBKAjxL"
      }
    },
    {
      "cell_type": "code",
      "source": [
        "# calculating metrics for a neural network model\n",
        "from sklearn import metrics"
      ],
      "metadata": {
        "id": "gANJsPd-AqYL"
      },
      "execution_count": null,
      "outputs": []
    },
    {
      "cell_type": "code",
      "source": [
        "print(\"Confusion Matrix:\")\n",
        "print(metrics.confusion_matrix(y_test.tolist(), y_result))\n",
        "print(\"\\n\\n\")\n",
        "print(metrics.classification_report(y_test.tolist(), y_result, digits=3, labels=[0,1,2,3,4,5,6,7], target_names=['Sadness', 'Anger', 'Happiness', 'Neutral', 'Surprise', 'Boredom', 'Fearful', 'Disgust']))"
      ],
      "metadata": {
        "colab": {
          "base_uri": "https://localhost:8080/"
        },
        "id": "R6y_AvaZQCHF",
        "outputId": "c171973c-7943-408b-f614-fddb9674cf75"
      },
      "execution_count": null,
      "outputs": [
        {
          "output_type": "stream",
          "name": "stdout",
          "text": [
            "Confusion Matrix:\n",
            "[[562   2  11   0   0   4  24   3]\n",
            " [  4 505  14   0  14   0   6   4]\n",
            " [ 10   9 515   2   9   2  31   3]\n",
            " [  3   0   6 493   1  12   6   5]\n",
            " [  9  13  33   0 466   5  25  10]\n",
            " [  1   0   0   5   0 561   3   2]\n",
            " [ 17   6  11   0   7   5 517  15]\n",
            " [  3   1   5   2   2   3   9 517]]\n",
            "\n",
            "\n",
            "\n",
            "              precision    recall  f1-score   support\n",
            "\n",
            "     Sadness      0.923     0.927     0.925       606\n",
            "       Anger      0.942     0.923     0.933       547\n",
            "   Happiness      0.866     0.886     0.876       581\n",
            "     Neutral      0.982     0.937     0.959       526\n",
            "    Surprise      0.934     0.831     0.879       561\n",
            "     Boredom      0.948     0.981     0.964       572\n",
            "     Fearful      0.833     0.894     0.862       578\n",
            "     Disgust      0.925     0.954     0.939       542\n",
            "\n",
            "    accuracy                          0.916      4513\n",
            "   macro avg      0.919     0.917     0.917      4513\n",
            "weighted avg      0.918     0.916     0.917      4513\n",
            "\n"
          ]
        }
      ]
    },
    {
      "cell_type": "markdown",
      "metadata": {
        "id": "XmEO9Z8gsXja"
      },
      "source": [
        "# Recording and classifying User Audio"
      ]
    },
    {
      "cell_type": "code",
      "metadata": {
        "id": "YxljkLL6sdSB"
      },
      "source": [
        "!pip install ffmpeg-python > /dev/null # for inputting voice via microphone\n",
        "import IPython.display as ipd\n",
        "import torchaudio\n"
      ],
      "execution_count": null,
      "outputs": []
    },
    {
      "cell_type": "code",
      "metadata": {
        "id": "NbjM7ZJIRScT"
      },
      "source": [
        "# Extract features (mfcc, chroma, mel) from the recorded audio\n",
        "def recorded_audio_extract_feature(file_name, mfcc, chroma, mel, axis_=1):\n",
        "  with soundfile.SoundFile(file_name) as sound_file:\n",
        "      X = sound_file.read(dtype=\"float32\")\n",
        "      x_np = x.cpu().detach().numpy()\n",
        "      X = x_np.mean(axis=axis_)\n",
        "      sample_rate=sound_file.samplerate\n",
        "      if chroma:\n",
        "          stft=np.abs(librosa.stft(X))\n",
        "      result=np.array([])\n",
        "      if mfcc:\n",
        "          mfccs=np.mean(librosa.feature.mfcc(y=X, sr=sample_rate, n_mfcc=40).T, axis=0)\n",
        "          result=np.hstack((result, mfccs))\n",
        "      if chroma:\n",
        "          chroma=np.mean(librosa.feature.chroma_stft(S=stft, sr=sample_rate).T,axis=0)\n",
        "          result=np.hstack((result, chroma))\n",
        "      if mel:\n",
        "          mel=np.mean(librosa.feature.melspectrogram(X, sr=sample_rate).T,axis=0)\n",
        "          result=np.hstack((result, mel))\n",
        "  return result"
      ],
      "execution_count": null,
      "outputs": []
    },
    {
      "cell_type": "code",
      "metadata": {
        "id": "SzFZIDG0r06o"
      },
      "source": [
        "# Audio Button and to save recording\n",
        "# code taken from https://ricardodeazambuja.com/deep_learning/2019/03/09/audio_and_video_google_colab/\n",
        "from IPython.display import HTML, Audio\n",
        "from google.colab.output import eval_js\n",
        "from base64 import b64decode\n",
        "import numpy as np\n",
        "import io\n",
        "import ffmpeg\n",
        "import tempfile\n",
        "import pathlib\n",
        "\n",
        "\n",
        "AUDIO_HTML = \"\"\"\n",
        "<script>\n",
        "var my_div = document.createElement(\"DIV\");\n",
        "var my_p = document.createElement(\"P\");\n",
        "var my_btn = document.createElement(\"BUTTON\");\n",
        "var t = document.createTextNode(\"Press to start recording\");\n",
        "\n",
        "my_btn.appendChild(t);\n",
        "//my_p.appendChild(my_btn);\n",
        "my_div.appendChild(my_btn);\n",
        "document.body.appendChild(my_div);\n",
        "\n",
        "var base64data = 0;\n",
        "var reader;\n",
        "var recorder, gumStream;\n",
        "var recordButton = my_btn;\n",
        "\n",
        "var handleSuccess = function(stream) {\n",
        "  gumStream = stream;\n",
        "  var options = {\n",
        "    //bitsPerSecond: 8000, //chrome seems to ignore, always 48k\n",
        "    mimeType : 'audio/webm;codecs=opus'\n",
        "    //mimeType : 'audio/webm;codecs=pcm'\n",
        "  };\n",
        "  //recorder = new MediaRecorder(stream, options);\n",
        "  recorder = new MediaRecorder(stream);\n",
        "  recorder.ondataavailable = function(e) {\n",
        "    var url = URL.createObjectURL(e.data);\n",
        "    var preview = document.createElement('audio');\n",
        "    preview.controls = true;\n",
        "    preview.src = url;\n",
        "    document.body.appendChild(preview);\n",
        "\n",
        "    reader = new FileReader();\n",
        "    reader.readAsDataURL(e.data);\n",
        "    reader.onloadend = function() {\n",
        "      base64data = reader.result;\n",
        "      //console.log(\"Inside FileReader:\" + base64data);\n",
        "    }\n",
        "  };\n",
        "  recorder.start();\n",
        "  };\n",
        "\n",
        "recordButton.innerText = \"Recording... press to stop\";\n",
        "\n",
        "navigator.mediaDevices.getUserMedia({audio: true}).then(handleSuccess);\n",
        "\n",
        "\n",
        "function toggleRecording() {\n",
        "  if (recorder && recorder.state == \"recording\") {\n",
        "      recorder.stop();\n",
        "      gumStream.getAudioTracks()[0].stop();\n",
        "      recordButton.innerText = \"Saving the recording... pls wait!\"\n",
        "  }\n",
        "}\n",
        "\n",
        "// https://stackoverflow.com/a/951057\n",
        "function sleep(ms) {\n",
        "  return new Promise(resolve => setTimeout(resolve, ms));\n",
        "}\n",
        "\n",
        "var data = new Promise(resolve=>{\n",
        "//recordButton.addEventListener(\"click\", toggleRecording);\n",
        "recordButton.onclick = ()=>{\n",
        "toggleRecording()\n",
        "\n",
        "sleep(2000).then(() => {\n",
        "  // wait 2000ms for the data to be available...\n",
        "  // ideally this should use something like await...\n",
        "  //console.log(\"Inside data:\" + base64data)\n",
        "  resolve(base64data.toString())\n",
        "\n",
        "});\n",
        "\n",
        "}\n",
        "});\n",
        "\n",
        "</script>\n",
        "\"\"\"\n",
        "\n",
        "def get_audio():\n",
        "  display(HTML(AUDIO_HTML))\n",
        "  data = eval_js(\"data\")\n",
        "  binary = b64decode(data.split(',')[1])\n",
        "\n",
        "  process = (ffmpeg\n",
        "    .input('pipe:0')\n",
        "    .output('pipe:1', format='wav')\n",
        "    .run_async(pipe_stdin=True, pipe_stdout=True, pipe_stderr=True, quiet=True, overwrite_output=True)\n",
        "  )\n",
        "  output, err = process.communicate(input=binary)\n",
        "\n",
        "  riff_chunk_size = len(output) - 8\n",
        "  # Break up the chunk size into four bytes, held in b.\n",
        "  q = riff_chunk_size\n",
        "  b = []\n",
        "  for i in range(4):\n",
        "      q, r = divmod(q, 256)\n",
        "      b.append(r)\n",
        "\n",
        "  # Replace bytes 4:8 in proc.stdout with the actual size of the RIFF chunk.\n",
        "  riff = output[:4] + bytes(b) + output[8:]\n",
        "\n",
        "  path = \"saved/temp.wav\"\n",
        "  with open(path, \"wb\") as f:\n",
        "    f.write(riff)\n",
        "  x, sr = torchaudio.load(path)\n",
        "\n",
        "  return x, sr"
      ],
      "execution_count": null,
      "outputs": []
    },
    {
      "cell_type": "code",
      "metadata": {
        "colab": {
          "base_uri": "https://localhost:8080/",
          "height": 383
        },
        "id": "btBlnk2atL8o",
        "outputId": "e798e17b-cdef-4ce4-bb0b-e7cb9b4253dc"
      },
      "source": [
        "# record the audio\n",
        "x, sr = get_audio()"
      ],
      "execution_count": null,
      "outputs": [
        {
          "output_type": "display_data",
          "data": {
            "text/html": [
              "\n",
              "<script>\n",
              "var my_div = document.createElement(\"DIV\");\n",
              "var my_p = document.createElement(\"P\");\n",
              "var my_btn = document.createElement(\"BUTTON\");\n",
              "var t = document.createTextNode(\"Press to start recording\");\n",
              "\n",
              "my_btn.appendChild(t);\n",
              "//my_p.appendChild(my_btn);\n",
              "my_div.appendChild(my_btn);\n",
              "document.body.appendChild(my_div);\n",
              "\n",
              "var base64data = 0;\n",
              "var reader;\n",
              "var recorder, gumStream;\n",
              "var recordButton = my_btn;\n",
              "\n",
              "var handleSuccess = function(stream) {\n",
              "  gumStream = stream;\n",
              "  var options = {\n",
              "    //bitsPerSecond: 8000, //chrome seems to ignore, always 48k\n",
              "    mimeType : 'audio/webm;codecs=opus'\n",
              "    //mimeType : 'audio/webm;codecs=pcm'\n",
              "  };            \n",
              "  //recorder = new MediaRecorder(stream, options);\n",
              "  recorder = new MediaRecorder(stream);\n",
              "  recorder.ondataavailable = function(e) {            \n",
              "    var url = URL.createObjectURL(e.data);\n",
              "    var preview = document.createElement('audio');\n",
              "    preview.controls = true;\n",
              "    preview.src = url;\n",
              "    document.body.appendChild(preview);\n",
              "\n",
              "    reader = new FileReader();\n",
              "    reader.readAsDataURL(e.data); \n",
              "    reader.onloadend = function() {\n",
              "      base64data = reader.result;\n",
              "      //console.log(\"Inside FileReader:\" + base64data);\n",
              "    }\n",
              "  };\n",
              "  recorder.start();\n",
              "  };\n",
              "\n",
              "recordButton.innerText = \"Recording... press to stop\";\n",
              "\n",
              "navigator.mediaDevices.getUserMedia({audio: true}).then(handleSuccess);\n",
              "\n",
              "\n",
              "function toggleRecording() {\n",
              "  if (recorder && recorder.state == \"recording\") {\n",
              "      recorder.stop();\n",
              "      gumStream.getAudioTracks()[0].stop();\n",
              "      recordButton.innerText = \"Saving the recording... pls wait!\"\n",
              "  }\n",
              "}\n",
              "\n",
              "// https://stackoverflow.com/a/951057\n",
              "function sleep(ms) {\n",
              "  return new Promise(resolve => setTimeout(resolve, ms));\n",
              "}\n",
              "\n",
              "var data = new Promise(resolve=>{\n",
              "//recordButton.addEventListener(\"click\", toggleRecording);\n",
              "recordButton.onclick = ()=>{\n",
              "toggleRecording()\n",
              "\n",
              "sleep(2000).then(() => {\n",
              "  // wait 2000ms for the data to be available...\n",
              "  // ideally this should use something like await...\n",
              "  //console.log(\"Inside data:\" + base64data)\n",
              "  resolve(base64data.toString())\n",
              "\n",
              "});\n",
              "\n",
              "}\n",
              "});\n",
              "      \n",
              "</script>\n"
            ],
            "text/plain": [
              "<IPython.core.display.HTML object>"
            ]
          },
          "metadata": {}
        },
        {
          "output_type": "error",
          "ename": "FileNotFoundError",
          "evalue": "ignored",
          "traceback": [
            "\u001b[0;31m---------------------------------------------------------------------------\u001b[0m",
            "\u001b[0;31mFileNotFoundError\u001b[0m                         Traceback (most recent call last)",
            "\u001b[0;32m<ipython-input-25-cab87e3f83ce>\u001b[0m in \u001b[0;36m<module>\u001b[0;34m()\u001b[0m\n\u001b[1;32m      1\u001b[0m \u001b[0;31m# record the audio\u001b[0m\u001b[0;34m\u001b[0m\u001b[0;34m\u001b[0m\u001b[0;34m\u001b[0m\u001b[0m\n\u001b[0;32m----> 2\u001b[0;31m \u001b[0mx\u001b[0m\u001b[0;34m,\u001b[0m \u001b[0msr\u001b[0m \u001b[0;34m=\u001b[0m \u001b[0mget_audio\u001b[0m\u001b[0;34m(\u001b[0m\u001b[0;34m)\u001b[0m\u001b[0;34m\u001b[0m\u001b[0;34m\u001b[0m\u001b[0m\n\u001b[0m",
            "\u001b[0;32m<ipython-input-24-c9e285a01c7e>\u001b[0m in \u001b[0;36mget_audio\u001b[0;34m()\u001b[0m\n\u001b[1;32m    115\u001b[0m \u001b[0;34m\u001b[0m\u001b[0m\n\u001b[1;32m    116\u001b[0m   \u001b[0mpath\u001b[0m \u001b[0;34m=\u001b[0m \u001b[0;34m\"saved/temp.wav\"\u001b[0m\u001b[0;34m\u001b[0m\u001b[0;34m\u001b[0m\u001b[0m\n\u001b[0;32m--> 117\u001b[0;31m   \u001b[0;32mwith\u001b[0m \u001b[0mopen\u001b[0m\u001b[0;34m(\u001b[0m\u001b[0mpath\u001b[0m\u001b[0;34m,\u001b[0m \u001b[0;34m\"wb\"\u001b[0m\u001b[0;34m)\u001b[0m \u001b[0;32mas\u001b[0m \u001b[0mf\u001b[0m\u001b[0;34m:\u001b[0m\u001b[0;34m\u001b[0m\u001b[0;34m\u001b[0m\u001b[0m\n\u001b[0m\u001b[1;32m    118\u001b[0m     \u001b[0mf\u001b[0m\u001b[0;34m.\u001b[0m\u001b[0mwrite\u001b[0m\u001b[0;34m(\u001b[0m\u001b[0mriff\u001b[0m\u001b[0;34m)\u001b[0m\u001b[0;34m\u001b[0m\u001b[0;34m\u001b[0m\u001b[0m\n\u001b[1;32m    119\u001b[0m   \u001b[0mx\u001b[0m\u001b[0;34m,\u001b[0m \u001b[0msr\u001b[0m \u001b[0;34m=\u001b[0m \u001b[0mtorchaudio\u001b[0m\u001b[0;34m.\u001b[0m\u001b[0mload\u001b[0m\u001b[0;34m(\u001b[0m\u001b[0mpath\u001b[0m\u001b[0;34m)\u001b[0m\u001b[0;34m\u001b[0m\u001b[0;34m\u001b[0m\u001b[0m\n",
            "\u001b[0;31mFileNotFoundError\u001b[0m: [Errno 2] No such file or directory: 'saved/temp.wav'"
          ]
        }
      ]
    },
    {
      "cell_type": "code",
      "metadata": {
        "id": "9RqL68fbtmk0"
      },
      "source": [
        "# play the audio\n",
        "print(f'We loaded a speech example; sample rate: {sr}, number of channels: {x.size(0)}, its length is {x.size(1)} frames or about {x.size(1) // sr} seconds.')\n",
        "ipd.Audio(x, rate=sr)"
      ],
      "execution_count": null,
      "outputs": []
    },
    {
      "cell_type": "markdown",
      "metadata": {
        "id": "RaSxE6fIvC_x"
      },
      "source": [
        "## Feature Extraction and prediction of the recorded audio\n",
        "Predicting and plotting the output of the extracted features from the recorded audio."
      ]
    },
    {
      "cell_type": "code",
      "metadata": {
        "id": "t8x_Tt6WvH16"
      },
      "source": [
        "# Feature extraction\n",
        "feature=recorded_audio_extract_feature(\"saved/temp.wav\", mfcc=True, chroma=True, mel=True, axis_=0)\n",
        "\n",
        "# Prediction\n",
        "x = [feature]\n",
        "x = np.array(x)\n",
        "pred_out = model.predict(x)\n",
        "\n",
        "# observed emotions = ['Sadness', 'Anger', 'Happiness', 'Neutral', 'Surprise', 'Boredom', 'Fearful', 'Disgust']\n",
        "val = pred_out.tolist()\n",
        "pred = val[0].index(max(val[0]))\n",
        "print(observed_emotions[pred])"
      ],
      "execution_count": null,
      "outputs": []
    },
    {
      "cell_type": "markdown",
      "metadata": {
        "id": "g1Ya9POWOoDi"
      },
      "source": [
        "## Plotting the extracted features"
      ]
    },
    {
      "cell_type": "code",
      "metadata": {
        "id": "ag79H_WZMygI"
      },
      "source": [
        "# Extract features (mfcc, chroma, mel) from the recorded audio for plotting\n",
        "def extract_single_feature(file_name, spectogram=False, mfcc=False, chroma=False, mel=False, axis_=1):\n",
        "  with soundfile.SoundFile(file_name) as sound_file:\n",
        "      X, sample_rate = librosa.load(path=file_name, dtype=\"float32\")\n",
        "\n",
        "      if spectogram:\n",
        "        D = librosa.stft(y=X)  # STFT of y\n",
        "        S_db = librosa.amplitude_to_db(np.abs(D), ref=np.max)\n",
        "        return S_db\n",
        "\n",
        "      if chroma:\n",
        "          stft=np.abs(librosa.stft(X))\n",
        "\n",
        "      if mfcc:\n",
        "          return librosa.feature.mfcc(y=X, sr=sample_rate, n_mfcc=40)\n",
        "\n",
        "      if chroma:\n",
        "          return librosa.feature.chroma_stft(S=stft, sr=sample_rate)\n",
        "\n",
        "      if mel:\n",
        "          return librosa.feature.melspectrogram(X, sr=sample_rate, fmax=8000)"
      ],
      "execution_count": null,
      "outputs": []
    },
    {
      "cell_type": "code",
      "metadata": {
        "id": "uF0ZiFvRW-ZV"
      },
      "source": [
        "import librosa.display\n",
        "fig, ax = plt.subplots()\n",
        "\n",
        "S_db = extract_single_feature(file_name=\"saved/temp.wav\", spectogram=True, axis_=0)\n",
        "\n",
        "img = librosa.display.specshow(S_db, x_axis='time', y_axis='linear', ax=ax)\n",
        "ax.set(title='Spectogram')\n",
        "fig.colorbar(img, ax=ax, format=\"%+2.f dB\")"
      ],
      "execution_count": null,
      "outputs": []
    },
    {
      "cell_type": "code",
      "metadata": {
        "id": "ZgjouXn0PmXR"
      },
      "source": [
        "fig, ax = plt.subplots()\n",
        "\n",
        "S = extract_single_feature(file_name=\"saved/temp.wav\", mel=True, axis_=0)\n",
        "\n",
        "S_dB = librosa.power_to_db(S, ref=np.max)\n",
        "img = librosa.display.specshow(S_dB, x_axis='time',\n",
        "                         y_axis='mel', sr=sr,\n",
        "                         fmax=8000, ax=ax)\n",
        "fig.colorbar(img, ax=ax, format='%+2.0f dB')\n",
        "ax.set(title='Mel-frequency spectrogram')"
      ],
      "execution_count": null,
      "outputs": []
    },
    {
      "cell_type": "code",
      "metadata": {
        "id": "l3JFNj1pDiJA"
      },
      "source": [
        "fig, ax = plt.subplots()\n",
        "\n",
        "mfcc_to_plot = extract_single_feature(file_name=\"saved/temp.wav\", mfcc=True, axis_=0)\n",
        "\n",
        "img = librosa.display.specshow(mfcc_to_plot, x_axis='time', ax=ax)\n",
        "fig.colorbar(img, ax=ax)\n",
        "ax.set(title='MFCC')"
      ],
      "execution_count": null,
      "outputs": []
    },
    {
      "cell_type": "code",
      "metadata": {
        "id": "x5hEv02qQ1G6"
      },
      "source": [
        "fig, ax = plt.subplots()\n",
        "\n",
        "chroma_to_plot = extract_single_feature(file_name=\"saved/temp.wav\", chroma=True, axis_=0)\n",
        "\n",
        "img = librosa.display.specshow(chroma_to_plot, y_axis='chroma', x_axis='time', ax=ax)\n",
        "fig.colorbar(img, ax=ax)\n",
        "ax.set(title='Chromagram')"
      ],
      "execution_count": null,
      "outputs": []
    }
  ]
}